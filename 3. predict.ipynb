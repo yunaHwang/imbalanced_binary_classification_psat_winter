{
 "cells": [
  {
   "cell_type": "markdown",
   "metadata": {
    "id": "H0_fdb5t3MKl"
   },
   "source": [
    "# 1. 디렉토리, 라이브러리 불러오기\n",
    "# 1. Set directory, get related libraries"
   ]
  },
  {
   "cell_type": "code",
   "execution_count": 2,
   "metadata": {
    "executionInfo": {
     "elapsed": 1219,
     "status": "ok",
     "timestamp": 1612680108317,
     "user": {
      "displayName": "성균관대심은주",
      "photoUrl": "",
      "userId": "14051116185193771540"
     },
     "user_tz": -540
    },
    "id": "D_2V1sAT3EHc"
   },
   "outputs": [],
   "source": [
    "import os\n",
    "import numpy as np\n",
    "import pandas as pd\n",
    "from sklearn.experimental import enable_iterative_imputer\n",
    "from sklearn.impute import IterativeImputer\n",
    "from sklearn.preprocessing import StandardScaler\n",
    "from sklearn.decomposition import PCA\n",
    "from sklearn.feature_selection import VarianceThreshold\n",
    "import lightgbm as lgb\n",
    "import joblib \n",
    "import pickle"
   ]
  },
  {
   "cell_type": "markdown",
   "metadata": {
    "id": "5koiiahm3UrW"
   },
   "source": [
    "# 2. 데이터 불러오기 및 전처리\n",
    "# 2. Get data, a little bit of preprocessing"
   ]
  },
  {
   "cell_type": "markdown",
   "metadata": {
    "id": "x5tr2XOnWaYk"
   },
   "source": [
    "### a. 데이터 불러오기\n",
    "### a. Get data"
   ]
  },
  {
   "cell_type": "code",
   "execution_count": 3,
   "metadata": {
    "executionInfo": {
     "elapsed": 910,
     "status": "ok",
     "timestamp": 1612677873363,
     "user": {
      "displayName": "성균관대심은주",
      "photoUrl": "",
      "userId": "14051116185193771540"
     },
     "user_tz": -540
    },
    "id": "uIsb3gwX3fhA"
   },
   "outputs": [],
   "source": [
    "# test data 불러오기\n",
    "# get test data\n",
    "test = pd.read_csv(\"test_feature.csv\")\n",
    "\n",
    "# train data 불러오기\n",
    "# get train data\n",
    "train = pd.read_csv(\"train_preprocessed.csv\")"
   ]
  },
  {
   "cell_type": "markdown",
   "metadata": {
    "id": "H-NhUNxDGmkf"
   },
   "source": [
    "### b. test set 전처리\n",
    "### b. Preprocessing of the test set"
   ]
  },
  {
   "cell_type": "markdown",
   "metadata": {
    "id": "bJLkU93RWfpZ"
   },
   "source": [
    "#### (1) NA 비율이 높은 변수 제거\n",
    "#### (1) Remove columns with high proportions of NA values"
   ]
  },
  {
   "cell_type": "code",
   "execution_count": 4,
   "metadata": {
    "executionInfo": {
     "elapsed": 670,
     "status": "ok",
     "timestamp": 1612678154251,
     "user": {
      "displayName": "성균관대심은주",
      "photoUrl": "",
      "userId": "14051116185193771540"
     },
     "user_tz": -540
    },
    "id": "i6ksNI6p3iXG"
   },
   "outputs": [],
   "source": [
    "# NA 비율이 높은 변수 리스트 불러오기\n",
    "# Get names of columns with high proportions of NA values\n",
    "with open( \"na_drop_list\", \"rb\" ) as file:\n",
    "    na_drop_list = pickle.load(file)\n",
    "\n",
    "test = test.drop(na_drop_list, axis = 1)"
   ]
  },
  {
   "cell_type": "code",
   "execution_count": 5,
   "metadata": {
    "colab": {
     "base_uri": "https://localhost:8080/"
    },
    "executionInfo": {
     "elapsed": 689,
     "status": "ok",
     "timestamp": 1612678156406,
     "user": {
      "displayName": "성균관대심은주",
      "photoUrl": "",
      "userId": "14051116185193771540"
     },
     "user_tz": -540
    },
    "id": "133We_lzGcR0",
    "outputId": "03ea8edc-988b-4d0a-8997-3aa3b4e2ddab"
   },
   "outputs": [
    {
     "data": {
      "text/plain": [
       "(8000, 162)"
      ]
     },
     "execution_count": 5,
     "metadata": {},
     "output_type": "execute_result"
    }
   ],
   "source": [
    "# 8개 변수 삭제\n",
    "# removal of 8 columns (prior: 170)\n",
    "test.shape "
   ]
  },
  {
   "cell_type": "markdown",
   "metadata": {
    "id": "3CuPA6OaWnGX"
   },
   "source": [
    "#### (2) 상관관계 분석을 통해 변수 제거\n",
    "#### (2) Remove columns using correlation analysis"
   ]
  },
  {
   "cell_type": "code",
   "execution_count": 6,
   "metadata": {
    "executionInfo": {
     "elapsed": 710,
     "status": "ok",
     "timestamp": 1612678299562,
     "user": {
      "displayName": "성균관대심은주",
      "photoUrl": "",
      "userId": "14051116185193771540"
     },
     "user_tz": -540
    },
    "id": "b2q5q_UhvQvJ"
   },
   "outputs": [],
   "source": [
    "# 상관관계가 높은 변수 리스트 불러오기\n",
    "# Get names of columns having high correlation values to the target variable\n",
    "with open(\"col_drop_list\", \"rb\") as file:\n",
    "     col_drop_list = pickle.load(file)\n",
    "\n",
    "test = test.drop(col_drop_list, axis = 1)"
   ]
  },
  {
   "cell_type": "code",
   "execution_count": 7,
   "metadata": {
    "colab": {
     "base_uri": "https://localhost:8080/"
    },
    "executionInfo": {
     "elapsed": 375,
     "status": "ok",
     "timestamp": 1612678300444,
     "user": {
      "displayName": "성균관대심은주",
      "photoUrl": "",
      "userId": "14051116185193771540"
     },
     "user_tz": -540
    },
    "id": "przUjYKgHUCx",
    "outputId": "5b61a65f-9346-4ce7-803f-dcbc345dee4b"
   },
   "outputs": [
    {
     "data": {
      "text/plain": [
       "(8000, 123)"
      ]
     },
     "execution_count": 7,
     "metadata": {},
     "output_type": "execute_result"
    }
   ],
   "source": [
    "# 39개 변수 삭제\n",
    "# removal of 39 columns (prior: 162)\n",
    "test.shape "
   ]
  },
  {
   "cell_type": "markdown",
   "metadata": {
    "id": "adWGOD-HWtH6"
   },
   "source": [
    "#### (3) MICE imputation"
   ]
  },
  {
   "cell_type": "code",
   "execution_count": 8,
   "metadata": {
    "colab": {
     "base_uri": "https://localhost:8080/"
    },
    "executionInfo": {
     "elapsed": 254871,
     "status": "ok",
     "timestamp": 1612680091015,
     "user": {
      "displayName": "성균관대심은주",
      "photoUrl": "",
      "userId": "14051116185193771540"
     },
     "user_tz": -540
    },
    "id": "jEH_uiJD6c5V",
    "outputId": "f83e71d1-0aa7-4181-9915-0cb061faa600"
   },
   "outputs": [
    {
     "name": "stderr",
     "output_type": "stream",
     "text": [
      "C:\\Users\\samsung\\anaconda3\\lib\\site-packages\\sklearn\\impute\\_iterative.py:669: ConvergenceWarning: [IterativeImputer] Early stopping criterion not reached.\n",
      "  warnings.warn(\"[IterativeImputer] Early stopping criterion not\"\n"
     ]
    }
   ],
   "source": [
    "imputer=IterativeImputer(random_state=26)\n",
    "test=pd.DataFrame(imputer.fit_transform(test))"
   ]
  },
  {
   "cell_type": "code",
   "execution_count": 9,
   "metadata": {
    "colab": {
     "base_uri": "https://localhost:8080/"
    },
    "executionInfo": {
     "elapsed": 1239,
     "status": "ok",
     "timestamp": 1612680100948,
     "user": {
      "displayName": "성균관대심은주",
      "photoUrl": "",
      "userId": "14051116185193771540"
     },
     "user_tz": -540
    },
    "id": "uq1R-gr3Nb9r",
    "outputId": "70cb77f2-a0b3-4601-e96d-361be424cf2c"
   },
   "outputs": [
    {
     "data": {
      "text/plain": [
       "False"
      ]
     },
     "execution_count": 9,
     "metadata": {},
     "output_type": "execute_result"
    }
   ],
   "source": [
    "test.isnull().values.any() \n",
    "# NA 없음!\n",
    "# No NAs shown after MICE imputation"
   ]
  },
  {
   "cell_type": "markdown",
   "metadata": {
    "id": "qQq9F5WVWxo0"
   },
   "source": [
    "#### (4) 분산이 0인 변수 제거\n",
    "#### (4) Removal of columns that have variance values of 0"
   ]
  },
  {
   "cell_type": "code",
   "execution_count": 10,
   "metadata": {
    "executionInfo": {
     "elapsed": 1640,
     "status": "ok",
     "timestamp": 1612680178769,
     "user": {
      "displayName": "성균관대심은주",
      "photoUrl": "",
      "userId": "14051116185193771540"
     },
     "user_tz": -540
    },
    "id": "N0JkvNoz6rv_"
   },
   "outputs": [],
   "source": [
    "# train set에 적용한 모델 불러오기\n",
    "# get model for train set\n",
    "var_drop = joblib.load('var_drop.pkl')\n",
    "\n",
    "# 분산이 0인 1개의 열 삭제\n",
    "# delete single column with variance value of 0\n",
    "test = pd.DataFrame(var_drop.transform(test))"
   ]
  },
  {
   "cell_type": "code",
   "execution_count": 11,
   "metadata": {
    "colab": {
     "base_uri": "https://localhost:8080/"
    },
    "executionInfo": {
     "elapsed": 1843,
     "status": "ok",
     "timestamp": 1612680194237,
     "user": {
      "displayName": "성균관대심은주",
      "photoUrl": "",
      "userId": "14051116185193771540"
     },
     "user_tz": -540
    },
    "id": "FZ4wcLe-OtAg",
    "outputId": "331f9084-5cd9-4871-de6b-79bc60a12ec2"
   },
   "outputs": [
    {
     "data": {
      "text/plain": [
       "(8000, 122)"
      ]
     },
     "execution_count": 11,
     "metadata": {},
     "output_type": "execute_result"
    }
   ],
   "source": [
    "test.shape"
   ]
  },
  {
   "cell_type": "markdown",
   "metadata": {
    "id": "j2bz0ftWW1TC"
   },
   "source": [
    "#### (5) 표준화 및 PCA\n",
    "#### (5) Standardization and PCA"
   ]
  },
  {
   "cell_type": "code",
   "execution_count": 12,
   "metadata": {
    "colab": {
     "base_uri": "https://localhost:8080/"
    },
    "executionInfo": {
     "elapsed": 1029,
     "status": "ok",
     "timestamp": 1612680327463,
     "user": {
      "displayName": "성균관대심은주",
      "photoUrl": "",
      "userId": "14051116185193771540"
     },
     "user_tz": -540
    },
    "id": "9WwweWbM6vRS",
    "outputId": "afc29fa2-8348-4e7c-bb30-93aca1d9b442"
   },
   "outputs": [
    {
     "name": "stdout",
     "output_type": "stream",
     "text": [
      "줄어든 특성 개수: 54\n"
     ]
    }
   ],
   "source": [
    "# train set에 적용한 모델 불러오기 (표준화, PCA)\n",
    "# get model performed on train set (standardization, PCA)\n",
    "standard = joblib.load('standard.pkl')\n",
    "pca = joblib.load('pca.pkl')\n",
    "\n",
    "# 표준화하기\n",
    "# standardization\n",
    "test = standard.transform(test)\n",
    "\n",
    "# PCA\n",
    "test = pca.transform(test)\n",
    "\n",
    "# 결과 확인\n",
    "# check results, features reduced to 54 (prior:122)\n",
    "print(\"줄어든 특성 개수:\", test.shape[1])"
   ]
  },
  {
   "cell_type": "markdown",
   "metadata": {
    "id": "rh-kfkIO3k-0"
   },
   "source": [
    "# 3. Test Prediction"
   ]
  },
  {
   "cell_type": "code",
   "execution_count": 13,
   "metadata": {
    "executionInfo": {
     "elapsed": 708,
     "status": "ok",
     "timestamp": 1612680988165,
     "user": {
      "displayName": "성균관대심은주",
      "photoUrl": "",
      "userId": "14051116185193771540"
     },
     "user_tz": -540
    },
    "id": "b8R3WTjA3oQ5"
   },
   "outputs": [],
   "source": [
    "# 모델 불러오기 \n",
    "# get LGBM model\n",
    "model = joblib.load('LGBM.pkl')"
   ]
  },
  {
   "cell_type": "code",
   "execution_count": 14,
   "metadata": {
    "executionInfo": {
     "elapsed": 2313,
     "status": "ok",
     "timestamp": 1612680945669,
     "user": {
      "displayName": "성균관대심은주",
      "photoUrl": "",
      "userId": "14051116185193771540"
     },
     "user_tz": -540
    },
    "id": "5FjVu8f5PwMM"
   },
   "outputs": [],
   "source": [
    "train_X = train.drop('class', axis = 1)\n",
    "train_y = train['class']"
   ]
  },
  {
   "cell_type": "code",
   "execution_count": 15,
   "metadata": {
    "colab": {
     "base_uri": "https://localhost:8080/"
    },
    "executionInfo": {
     "elapsed": 17555,
     "status": "ok",
     "timestamp": 1612681007431,
     "user": {
      "displayName": "성균관대심은주",
      "photoUrl": "",
      "userId": "14051116185193771540"
     },
     "user_tz": -540
    },
    "id": "BnbtrINrQGpF",
    "outputId": "1ba999f9-42e8-4cb9-fe3d-945527b9d6fc"
   },
   "outputs": [
    {
     "name": "stderr",
     "output_type": "stream",
     "text": [
      "C:\\Users\\samsung\\anaconda3\\lib\\site-packages\\lightgbm\\engine.py:151: UserWarning: Found `num_iterations` in params. Will use it instead of argument\n",
      "  warnings.warn(\"Found `{}` in params. Will use it instead of argument\".format(alias))\n"
     ]
    },
    {
     "name": "stdout",
     "output_type": "stream",
     "text": [
      "[LightGBM] [Warning] boosting is set=gbdt, boosting_type=gbdt will be ignored. Current value: boosting=gbdt\n",
      "[LightGBM] [Warning] feature_fraction is set=0.9, colsample_bytree=1.0 will be ignored. Current value: feature_fraction=0.9\n",
      "[LightGBM] [Warning] bagging_fraction is set=1.0, subsample=1.0 will be ignored. Current value: bagging_fraction=1.0\n",
      "[LightGBM] [Warning] bagging_freq is set=5, subsample_freq=0 will be ignored. Current value: bagging_freq=5\n"
     ]
    },
    {
     "data": {
      "text/plain": [
       "LGBMClassifier(bagging_fraction=1.0, bagging_freq=5, boosting='gbdt',\n",
       "               feature_fraction=0.9, is_training_metric=True, learning_rate=0.3,\n",
       "               metric='auc', num_iterations=600, objective='binary', seed=26)"
      ]
     },
     "execution_count": 15,
     "metadata": {},
     "output_type": "execute_result"
    }
   ],
   "source": [
    "# 데이터 형태 변환 및 모델 fitting\n",
    "# Change format of data to apply LGBM, fit model\n",
    "train_ds = lgb.Dataset(train_X, label=train_y) \n",
    "model.fit(train_X, train_y)"
   ]
  },
  {
   "cell_type": "code",
   "execution_count": 16,
   "metadata": {
    "executionInfo": {
     "elapsed": 1015,
     "status": "ok",
     "timestamp": 1612681013662,
     "user": {
      "displayName": "성균관대심은주",
      "photoUrl": "",
      "userId": "14051116185193771540"
     },
     "user_tz": -540
    },
    "id": "ljBhyrCn3qYm"
   },
   "outputs": [],
   "source": [
    "prediction = model.predict(test)"
   ]
  },
  {
   "cell_type": "markdown",
   "metadata": {
    "id": "-3Ai6jFw3sIj"
   },
   "source": [
    "# 4. 최종 제출 파일 저장\n",
    "# 4. Save final submission file"
   ]
  },
  {
   "cell_type": "code",
   "execution_count": 17,
   "metadata": {},
   "outputs": [],
   "source": [
    "submission = pd.DataFrame(columns = ['id', 'class'])\n",
    "submission['id'] = range(1,8001)"
   ]
  },
  {
   "cell_type": "code",
   "execution_count": 18,
   "metadata": {
    "colab": {
     "base_uri": "https://localhost:8080/"
    },
    "executionInfo": {
     "elapsed": 628,
     "status": "ok",
     "timestamp": 1612681187610,
     "user": {
      "displayName": "성균관대심은주",
      "photoUrl": "",
      "userId": "14051116185193771540"
     },
     "user_tz": -540
    },
    "id": "2kU5Bsc9Sbwh",
    "outputId": "68da4113-ecaf-4a66-f66f-f20838cb059f"
   },
   "outputs": [
    {
     "data": {
      "text/plain": [
       "neg    7798\n",
       "pos     202\n",
       "Name: class, dtype: int64"
      ]
     },
     "execution_count": 18,
     "metadata": {},
     "output_type": "execute_result"
    }
   ],
   "source": [
    "# 'class' 변수를 예측값으로 바꿔주기\n",
    "# change elements of column 'class' with the predicted valeus\n",
    "submission['class'] = prediction\n",
    "\n",
    "# 0/1로 되어있는 'class'변수를 'neg'와 'pos'로 변환\n",
    "# change one-hot encoded results to categories 'neg' and 'pos'\n",
    "submission.loc[(submission['class'] == 0.0), 'class'] = 'neg'\n",
    "submission.loc[(submission['class'] == 1.0), 'class'] = 'pos'\n",
    "submission['class'].value_counts()"
   ]
  },
  {
   "cell_type": "code",
   "execution_count": 19,
   "metadata": {
    "executionInfo": {
     "elapsed": 572,
     "status": "ok",
     "timestamp": 1612681204582,
     "user": {
      "displayName": "성균관대심은주",
      "photoUrl": "",
      "userId": "14051116185193771540"
     },
     "user_tz": -540
    },
    "id": "QT8T0UStSeMn"
   },
   "outputs": [],
   "source": [
    "# csv 파일로 내보내기\n",
    "# Output as a csv file\n",
    "submission.to_csv(\"submission.csv\", header = True, index = False)"
   ]
  }
 ],
 "metadata": {
  "colab": {
   "collapsed_sections": [],
   "name": "predict.ipynb",
   "provenance": []
  },
  "kernelspec": {
   "display_name": "Python 3",
   "language": "python",
   "name": "python3"
  },
  "language_info": {
   "codemirror_mode": {
    "name": "ipython",
    "version": 3
   },
   "file_extension": ".py",
   "mimetype": "text/x-python",
   "name": "python",
   "nbconvert_exporter": "python",
   "pygments_lexer": "ipython3",
   "version": "3.8.3"
  }
 },
 "nbformat": 4,
 "nbformat_minor": 1
}
